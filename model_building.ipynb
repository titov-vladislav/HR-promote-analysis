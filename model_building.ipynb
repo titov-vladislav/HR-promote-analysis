{
 "cells": [
  {
   "cell_type": "markdown",
   "metadata": {},
   "source": [
    "# Model building \n",
    "Here we will built our model. "
   ]
  },
  {
   "cell_type": "code",
   "execution_count": 1,
   "metadata": {},
   "outputs": [],
   "source": [
    "#importing main data analysis libraries  \n",
    "import pandas as pd \n",
    "import numpy as np\n",
    "#importing main visualization libraries\n",
    "%matplotlib inline \n",
    "import matplotlib.pyplot as plt\n",
    "import matplotlib.pylab as pylab\n",
    "import seaborn as sns\n",
    "\n",
    "%matplotlib inline "
   ]
  },
  {
   "cell_type": "markdown",
   "metadata": {},
   "source": [
    "# Plan\n",
    "\n",
    "1. Realize what problem do we solve\n",
    "\n",
    "2. Choose models for solving this problem\n",
    "\n",
    "3. Teach models\n",
    "\n",
    "\t1. Random Forest Classifier\n",
    "\n",
    "\t2. SVC\n",
    "\n",
    "\t3. SGD\n",
    "    \n",
    "    4. Gradient Boosting Classification\n",
    "\n",
    "\t5. KNeightbors\n",
    "\n",
    "4. Check their performance\n",
    "\n",
    "5. Which errors models did\n",
    "\n",
    "6. Choose top 3 performance models\n",
    "\n",
    "7. Per model:\n",
    "\t\n",
    "\t1. Write parameters of the model and what they mean\n",
    "\t\n",
    "\t2. Use GridSearch and RandomizedSearchCV\n",
    " "
   ]
  },
  {
   "cell_type": "markdown",
   "metadata": {},
   "source": [
    "Realize what problem do we solve\n",
    "\n",
    "We will solve binary classification problem. Our goal to built model, which predict promotion of employees."
   ]
  },
  {
   "cell_type": "markdown",
   "metadata": {},
   "source": [
    "For this problem we have several models, but I think we will stop on Random Forest Classifier, SVC, SGD, Gradient Boosting Classification and K-Neighbors Classifier. Firstly we will teach them, check their performance. After this we will look which errors they did, choose 3 models and tune them. Also we will try ensemble models, like voting, they can have better performance than single models."
   ]
  },
  {
   "cell_type": "code",
   "execution_count": 2,
   "metadata": {
    "scrolled": true
   },
   "outputs": [],
   "source": [
    "#read prepared train data\n",
    "train = pd.read_csv('C:/Users/Asus/Education/Portfolio_Projects/hr_promote_analysis/prepared_train')"
   ]
  },
  {
   "cell_type": "code",
   "execution_count": 3,
   "metadata": {},
   "outputs": [
    {
     "name": "stdout",
     "output_type": "stream",
     "text": [
      " x_train:  (43846, 13) \n",
      " y_train: (43846,) \n",
      " x_test: (10962, 13) \n",
      " y_test: (10962,)\n"
     ]
    }
   ],
   "source": [
    "#split our dataset into peaces\n",
    "\n",
    "from sklearn.model_selection import train_test_split\n",
    "\n",
    "X_train, X_test, y_train, y_test = train_test_split(\n",
    "    train.drop(columns= 'is_promoted', axis = 1), \n",
    "    train['is_promoted'], \n",
    "    test_size=0.2,\n",
    "    random_state = 42)\n",
    "\n",
    "print(' x_train: ',X_train.shape, '\\n',\n",
    "      'y_train:',y_train.shape,'\\n',\n",
    "      'x_test:',X_test.shape,'\\n',\n",
    "      'y_test:',y_test.shape)"
   ]
  },
  {
   "cell_type": "markdown",
   "metadata": {},
   "source": [
    "## Teaching models \n",
    "Here we will teach the most perspective models, but we only fit them."
   ]
  },
  {
   "cell_type": "markdown",
   "metadata": {},
   "source": [
    "### Random Forest Classifier"
   ]
  },
  {
   "cell_type": "code",
   "execution_count": 4,
   "metadata": {},
   "outputs": [
    {
     "data": {
      "text/plain": [
       "RandomForestClassifier()"
      ]
     },
     "execution_count": 4,
     "metadata": {},
     "output_type": "execute_result"
    }
   ],
   "source": [
    "from sklearn.ensemble import RandomForestClassifier\n",
    "\n",
    "rf_clf = RandomForestClassifier()\n",
    "\n",
    "rf_clf.fit(X_train, y_train)"
   ]
  },
  {
   "cell_type": "markdown",
   "metadata": {},
   "source": [
    "### SVC"
   ]
  },
  {
   "cell_type": "code",
   "execution_count": 5,
   "metadata": {},
   "outputs": [
    {
     "data": {
      "text/plain": [
       "SVC()"
      ]
     },
     "execution_count": 5,
     "metadata": {},
     "output_type": "execute_result"
    }
   ],
   "source": [
    "from sklearn.svm import SVC\n",
    "\n",
    "sv_clf = SVC()\n",
    "\n",
    "sv_clf.fit(X_train, y_train)"
   ]
  },
  {
   "cell_type": "markdown",
   "metadata": {},
   "source": [
    "### SGD"
   ]
  },
  {
   "cell_type": "code",
   "execution_count": 6,
   "metadata": {},
   "outputs": [
    {
     "data": {
      "text/plain": [
       "SGDClassifier()"
      ]
     },
     "execution_count": 6,
     "metadata": {},
     "output_type": "execute_result"
    }
   ],
   "source": [
    "from sklearn.linear_model import SGDClassifier\n",
    "\n",
    "sgd_clf = SGDClassifier()\n",
    "\n",
    "sgd_clf.fit(X_train, y_train)"
   ]
  },
  {
   "cell_type": "markdown",
   "metadata": {},
   "source": [
    "### XGBoost"
   ]
  },
  {
   "cell_type": "code",
   "execution_count": 5,
   "metadata": {},
   "outputs": [
    {
     "data": {
      "text/plain": [
       "XGBClassifier(base_score=0.5, booster='gbtree', colsample_bylevel=1,\n",
       "              colsample_bynode=1, colsample_bytree=1, gamma=0, gpu_id=-1,\n",
       "              importance_type='gain', interaction_constraints='',\n",
       "              learning_rate=0.300000012, max_delta_step=0, max_depth=6,\n",
       "              min_child_weight=1, missing=nan, monotone_constraints='()',\n",
       "              n_estimators=100, n_jobs=0, num_parallel_tree=1, random_state=0,\n",
       "              reg_alpha=0, reg_lambda=1, scale_pos_weight=1, subsample=1,\n",
       "              tree_method='exact', validate_parameters=1, verbosity=None)"
      ]
     },
     "execution_count": 5,
     "metadata": {},
     "output_type": "execute_result"
    }
   ],
   "source": [
    "from xgboost.sklearn import XGBClassifier\n",
    "\n",
    "xgb_clf = XGBClassifier()\n",
    "\n",
    "xgb_clf.fit(X_train, y_train)"
   ]
  },
  {
   "cell_type": "markdown",
   "metadata": {},
   "source": [
    "### KNeightbors"
   ]
  },
  {
   "cell_type": "code",
   "execution_count": 8,
   "metadata": {},
   "outputs": [
    {
     "data": {
      "text/plain": [
       "KNeighborsClassifier()"
      ]
     },
     "execution_count": 8,
     "metadata": {},
     "output_type": "execute_result"
    }
   ],
   "source": [
    "from sklearn.neighbors import KNeighborsClassifier\n",
    "\n",
    "kn_clf = KNeighborsClassifier()\n",
    "\n",
    "kn_clf.fit(X_train, y_train)"
   ]
  },
  {
   "cell_type": "markdown",
   "metadata": {},
   "source": [
    "## Checking performance\n",
    "We need to check performance of our model. Our top priorities is high precision and accuracy score. Because it's very important to promote right employee and don't have a mistake. Recall is important too, but 25-30% will be fine. I think, that roc auc score should be about 45-55%. I'm telling about it, because we should choose some model to tune them."
   ]
  },
  {
   "cell_type": "code",
   "execution_count": 60,
   "metadata": {},
   "outputs": [
    {
     "name": "stdout",
     "output_type": "stream",
     "text": [
      "RandomForestClassifier \n",
      " Accuracy score:  0.9370552818828681 \n",
      " Precision score:  0.8263473053892215 \n",
      " Recall score:  0.3039647577092511 \n",
      " F1 score:  0.4444444444444444 \n",
      " ROC AUC score:  0.6490979547448185 \n",
      "\n",
      "SVC \n",
      " Accuracy score:  0.9171683999270206 \n",
      " Precision score:  1.0 \n",
      " Recall score:  0.0 \n",
      " F1 score:  0.0 \n",
      " ROC AUC score:  0.5 \n",
      "\n",
      "SGDClassifier \n",
      " Accuracy score:  0.9206349206349206 \n",
      " Precision score:  0.7794117647058824 \n",
      " Recall score:  0.05837004405286344 \n",
      " F1 score:  0.10860655737704919 \n",
      " ROC AUC score:  0.5284390502738954 \n",
      "\n",
      "XGBClassifier \n",
      " Accuracy score:  0.9464513774858603 \n",
      " Precision score:  0.883054892601432 \n",
      " Recall score:  0.40748898678414097 \n",
      " F1 score:  0.5576488319517708 \n",
      " ROC AUC score:  0.7013076523337853 \n",
      "\n",
      "KNeighborsClassifier \n",
      " Accuracy score:  0.9135194307608101 \n",
      " Precision score:  0.3113207547169811 \n",
      " Recall score:  0.03634361233480176 \n",
      " F1 score:  0.06508875739644969 \n",
      " ROC AUC score:  0.5145414103050575 \n",
      "\n"
     ]
    }
   ],
   "source": [
    "from sklearn.metrics import accuracy_score, precision_score, recall_score, confusion_matrix, f1_score, roc_auc_score\n",
    "\n",
    "\n",
    "for clf in (rf_clf, sv_clf, sgd_clf, xgb_clf, kn_clf):\n",
    "    y_pred = clf.predict(X_test)\n",
    "    print(\n",
    "        clf.__class__.__name__,\n",
    "        '\\n',\n",
    "        'Accuracy score: ',accuracy_score(y_test, y_pred), '\\n',\n",
    "        'Precision score: ',precision_score(y_test, y_pred, zero_division = 1), '\\n',\n",
    "        'Recall score: ',recall_score(y_test, y_pred, zero_division = 1), '\\n',\n",
    "        'F1 score: ',f1_score(y_test, y_pred, zero_division = 1), '\\n',\n",
    "        'ROC AUC score: ',roc_auc_score(y_test, y_pred), '\\n', \n",
    "\n",
    "    )"
   ]
  },
  {
   "cell_type": "markdown",
   "metadata": {},
   "source": [
    "So we have all scores of our models. In my opinion we should choose 2 or 3 top model, which we will tune and make better. Here it is Random Forest Classifier and Gradient Boosting Classifier."
   ]
  },
  {
   "cell_type": "markdown",
   "metadata": {},
   "source": [
    "## Model Tuning"
   ]
  },
  {
   "cell_type": "markdown",
   "metadata": {},
   "source": [
    "### Random Forest Classifier"
   ]
  },
  {
   "cell_type": "markdown",
   "metadata": {},
   "source": [
    "#### Grid Search CV "
   ]
  },
  {
   "cell_type": "code",
   "execution_count": 10,
   "metadata": {},
   "outputs": [],
   "source": [
    "from sklearn.metrics import roc_curve, auc\n",
    "from sklearn.model_selection import GridSearchCV"
   ]
  },
  {
   "cell_type": "code",
   "execution_count": 11,
   "metadata": {},
   "outputs": [],
   "source": [
    "rfc_search = RandomForestClassifier()"
   ]
  },
  {
   "cell_type": "code",
   "execution_count": 12,
   "metadata": {},
   "outputs": [],
   "source": [
    "n_estimators = [32, 64, 128]\n",
    "max_featurese = ['auto', 'sqrt', 'log2']\n",
    "max_depth = [20, 25, 30, 35]\n",
    "min_samples_split = 0.2\n",
    "min_samples_leaf = [1, 2, 5, 10, 15]\n",
    "\n",
    "grid_param = {\n",
    "    'n_estimators': n_estimators,\n",
    "    'max_features': max_featurese,\n",
    "    'max_depth': max_depth,\n",
    "    'min_samples_leaf': min_samples_leaf\n",
    "}"
   ]
  },
  {
   "cell_type": "code",
   "execution_count": 13,
   "metadata": {},
   "outputs": [],
   "source": [
    "rfc_grid_f = GridSearchCV(estimator= rfc_search, param_grid= grid_param, cv = 5, scoring= 'roc_auc')"
   ]
  },
  {
   "cell_type": "code",
   "execution_count": 14,
   "metadata": {},
   "outputs": [
    {
     "data": {
      "text/plain": [
       "GridSearchCV(cv=5, estimator=RandomForestClassifier(),\n",
       "             param_grid={'max_depth': [20, 25, 30, 35],\n",
       "                         'max_features': ['auto', 'sqrt', 'log2'],\n",
       "                         'min_samples_leaf': [1, 2, 5, 10, 15],\n",
       "                         'n_estimators': [32, 64, 128]},\n",
       "             scoring='roc_auc')"
      ]
     },
     "execution_count": 14,
     "metadata": {},
     "output_type": "execute_result"
    }
   ],
   "source": [
    "rfc_grid_f.fit(X_train, y_train)"
   ]
  },
  {
   "cell_type": "code",
   "execution_count": 15,
   "metadata": {},
   "outputs": [
    {
     "data": {
      "text/plain": [
       "RandomForestClassifier(max_depth=30, min_samples_leaf=10, n_estimators=128)"
      ]
     },
     "execution_count": 15,
     "metadata": {},
     "output_type": "execute_result"
    }
   ],
   "source": [
    "rfc_grid_f.best_estimator_"
   ]
  },
  {
   "cell_type": "code",
   "execution_count": 16,
   "metadata": {},
   "outputs": [
    {
     "data": {
      "text/plain": [
       "0.9058009699156783"
      ]
     },
     "execution_count": 16,
     "metadata": {},
     "output_type": "execute_result"
    }
   ],
   "source": [
    "rfc_grid_f.best_score_"
   ]
  },
  {
   "cell_type": "code",
   "execution_count": 6,
   "metadata": {},
   "outputs": [],
   "source": [
    "rfc_grid_s =RandomForestClassifier(max_depth=20, max_features='sqrt', min_samples_leaf=5,\n",
    "                       n_estimators=128)\n"
   ]
  },
  {
   "cell_type": "code",
   "execution_count": 7,
   "metadata": {
    "scrolled": true
   },
   "outputs": [
    {
     "data": {
      "text/plain": [
       "RandomForestClassifier(max_depth=20, max_features='sqrt', min_samples_leaf=5,\n",
       "                       n_estimators=128)"
      ]
     },
     "execution_count": 7,
     "metadata": {},
     "output_type": "execute_result"
    }
   ],
   "source": [
    "rfc_grid_s.fit(X_train, y_train )"
   ]
  },
  {
   "cell_type": "code",
   "execution_count": 10,
   "metadata": {},
   "outputs": [
    {
     "name": "stdout",
     "output_type": "stream",
     "text": [
      "RandomForestClassifier \n",
      " Accuracy score:  0.9364167122787812 \n",
      " Precision score:  0.9271255060728745 \n",
      " Recall score:  0.2522026431718062 \n",
      " F1 score:  0.3965367965367966 \n",
      " ROC AUC score:  0.6252061554828595 \n",
      "\n"
     ]
    }
   ],
   "source": [
    "y_pred = rfc_grid_s.predict(X_test)\n",
    "print(\n",
    "        rfc_grid_s.__class__.__name__,\n",
    "        '\\n',\n",
    "        'Accuracy score: ',accuracy_score(y_test, y_pred), '\\n',\n",
    "        'Precision score: ',precision_score(y_test, y_pred, zero_division = 1), '\\n',\n",
    "        'Recall score: ',recall_score(y_test, y_pred, zero_division = 1), '\\n',\n",
    "        'F1 score: ',f1_score(y_test, y_pred, zero_division = 1), '\\n',\n",
    "        'ROC AUC score: ',roc_auc_score(y_test, y_pred), '\\n', \n",
    "\n",
    "    )"
   ]
  },
  {
   "cell_type": "code",
   "execution_count": 11,
   "metadata": {},
   "outputs": [
    {
     "data": {
      "text/plain": [
       "['random_forest_model.joblib']"
      ]
     },
     "execution_count": 11,
     "metadata": {},
     "output_type": "execute_result"
    }
   ],
   "source": [
    "from joblib import dump, load\n",
    "dump(rfc_grid_s, 'random_forest_model.joblib') "
   ]
  },
  {
   "cell_type": "markdown",
   "metadata": {},
   "source": [
    "#### Random Search CV "
   ]
  },
  {
   "cell_type": "code",
   "execution_count": 20,
   "metadata": {},
   "outputs": [],
   "source": [
    "from sklearn.model_selection import RandomizedSearchCV"
   ]
  },
  {
   "cell_type": "code",
   "execution_count": 21,
   "metadata": {},
   "outputs": [],
   "source": [
    "rfc_search_rscv = RandomForestClassifier()"
   ]
  },
  {
   "cell_type": "code",
   "execution_count": 22,
   "metadata": {},
   "outputs": [],
   "source": [
    "n_estimators = [32, 64, 128,  256]\n",
    "max_featurese = ['auto', 'sqrt', 'log2']\n",
    "max_depth = [32, 64, 128, 256]\n",
    "min_samples_leaf = [1, 2, 5, 10, 15]\n",
    "criterion = ['entropy', 'gini']\n",
    "bootstrap = [True, False]\n",
    "\n",
    "random_param = {\n",
    "    'n_estimators': n_estimators,\n",
    "    'max_features': max_featurese,\n",
    "    'criterion' : criterion,\n",
    "    'max_depth': max_depth,\n",
    "    'min_samples_leaf': min_samples_leaf\n",
    "}"
   ]
  },
  {
   "cell_type": "code",
   "execution_count": 23,
   "metadata": {},
   "outputs": [],
   "source": [
    "rfc_random_f = RandomizedSearchCV(estimator= rfc_search_rscv,\n",
    "                               param_distributions= random_param,\n",
    "                               cv = 5, n_jobs= -1, scoring= 'precision')"
   ]
  },
  {
   "cell_type": "code",
   "execution_count": 24,
   "metadata": {},
   "outputs": [
    {
     "data": {
      "text/plain": [
       "RandomizedSearchCV(cv=5, estimator=RandomForestClassifier(), n_jobs=-1,\n",
       "                   param_distributions={'criterion': ['entropy', 'gini'],\n",
       "                                        'max_depth': [32, 64, 128, 256],\n",
       "                                        'max_features': ['auto', 'sqrt',\n",
       "                                                         'log2'],\n",
       "                                        'min_samples_leaf': [1, 2, 5, 10, 15],\n",
       "                                        'n_estimators': [32, 64, 128, 256]},\n",
       "                   scoring='precision')"
      ]
     },
     "execution_count": 24,
     "metadata": {},
     "output_type": "execute_result"
    }
   ],
   "source": [
    "rfc_random_f.fit(X_train, y_train)"
   ]
  },
  {
   "cell_type": "code",
   "execution_count": 25,
   "metadata": {},
   "outputs": [
    {
     "data": {
      "text/plain": [
       "RandomForestClassifier(criterion='entropy', max_depth=256, min_samples_leaf=10,\n",
       "                       n_estimators=256)"
      ]
     },
     "execution_count": 25,
     "metadata": {},
     "output_type": "execute_result"
    }
   ],
   "source": [
    "rfc_random_f.best_estimator_"
   ]
  },
  {
   "cell_type": "code",
   "execution_count": 26,
   "metadata": {},
   "outputs": [],
   "source": [
    "rfc_random_s = RandomForestClassifier(criterion='entropy', max_depth=256, max_features='log2',\n",
    "                       min_samples_leaf=10, n_estimators=64)"
   ]
  },
  {
   "cell_type": "code",
   "execution_count": 27,
   "metadata": {},
   "outputs": [
    {
     "data": {
      "text/plain": [
       "RandomForestClassifier(criterion='entropy', max_depth=256, max_features='log2',\n",
       "                       min_samples_leaf=10, n_estimators=64)"
      ]
     },
     "execution_count": 27,
     "metadata": {},
     "output_type": "execute_result"
    }
   ],
   "source": [
    "rfc_random_s.fit(X_train, y_train)"
   ]
  },
  {
   "cell_type": "code",
   "execution_count": 28,
   "metadata": {
    "scrolled": true
   },
   "outputs": [
    {
     "name": "stdout",
     "output_type": "stream",
     "text": [
      "RandomForestClassifier \n",
      " Accuracy score:  0.9357781426746944 \n",
      " Precision score:  0.9322033898305084 \n",
      " Recall score:  0.2422907488986784 \n",
      " F1 score:  0.3846153846153846 \n",
      " ROC AUC score:  0.6203496712466338 \n",
      "\n"
     ]
    }
   ],
   "source": [
    "y_pred = rfc_random_s.predict(X_test)\n",
    "print(\n",
    "        rfc_random_s.__class__.__name__,\n",
    "        '\\n',\n",
    "        'Accuracy score: ',accuracy_score(y_test, y_pred), '\\n',\n",
    "        'Precision score: ',precision_score(y_test, y_pred, zero_division = 1), '\\n',\n",
    "        'Recall score: ',recall_score(y_test, y_pred, zero_division = 1), '\\n',\n",
    "        'F1 score: ',f1_score(y_test, y_pred, zero_division = 1), '\\n',\n",
    "        'ROC AUC score: ',roc_auc_score(y_test, y_pred), '\\n', \n",
    "\n",
    "    )"
   ]
  },
  {
   "cell_type": "markdown",
   "metadata": {},
   "source": [
    "### Comparison\n",
    "Here we will compare all the results.\n",
    "\n",
    "#### Without tuning:\n",
    "\n",
    " Accuracy score:  0.9374201787994891  \\\n",
    " Precision score:  0.8284023668639053 \\\n",
    " Recall score:  0.30837004405286345 \\\n",
    " F1 score:  0.4494382022471911 \\\n",
    " ROC AUC score:  0.6513005979166246 \n",
    " \n",
    " #### GridSearch:\n",
    " \n",
    " Accuracy score:  0.9377850757161103 \\\n",
    " Precision score:  0.9346153846153846 \\\n",
    " Recall score:  0.26762114537444937 \\\n",
    " F1 score:  0.416095890410959 \\\n",
    " ROC AUC score:  0.6329651380343503 \n",
    " \n",
    " #### RandomSearch:\n",
    " \n",
    " Accuracy score:  0.9362342638204707 \\\n",
    " Precision score:  0.9336099585062241 \\\n",
    " Recall score:  0.24779735682819384 \\\n",
    " F1 score:  0.391644908616188 \\\n",
    " ROC AUC score:  0.6231029752113916 "
   ]
  },
  {
   "cell_type": "markdown",
   "metadata": {},
   "source": [
    "As we can see most efficient model is GridSearch , we increase our precision score from 82% to 93%, we lost 6% in our recall score, but it's more important to get the most accurate result. We don't want to promote wrong employees. So we will use this, instead without tuning model. So this model we will save."
   ]
  },
  {
   "cell_type": "markdown",
   "metadata": {},
   "source": [
    "## Gradient Boosting"
   ]
  },
  {
   "cell_type": "markdown",
   "metadata": {},
   "source": [
    "### Research\n",
    "\n",
    "Here we will explore, which parameter we should use. Gradient Boosting is good, but we should optimize our grid search. Thanks for this code for Mohtadi Ben Fraj, it was published on Medium.com(https://medium.com/@mohtedibf)"
   ]
  },
  {
   "cell_type": "code",
   "execution_count": 61,
   "metadata": {},
   "outputs": [
    {
     "data": {
      "image/png": "[encoded data removed]",
      "text/plain": [
       "<Figure size 432x288 with 1 Axes>"
      ]
     },
     "metadata": {
      "needs_background": "light"
     },
     "output_type": "display_data"
    }
   ],
   "source": [
    "learning_rates = [1, 0.5, 0.25, 0.1, 0.05, 0.01]\n",
    "train_results = []\n",
    "test_results = []\n",
    "\n",
    "for eta in learning_rates:\n",
    "   model = XGBClassifier(learning_rate=eta)\n",
    "   model.fit(X_train, y_train)\n",
    "   train_pred = model.predict(X_train)\n",
    "   false_positive_rate, true_positive_rate, thresholds = roc_curve(y_train, train_pred)\n",
    "   roc_auc = auc(false_positive_rate, true_positive_rate)\n",
    "   train_results.append(roc_auc)\n",
    "   y_pred = model.predict(X_test)\n",
    "   false_positive_rate, true_positive_rate, thresholds = roc_curve(y_test, y_pred)\n",
    "   roc_auc = auc(false_positive_rate, true_positive_rate)\n",
    "   test_results.append(roc_auc)\n",
    "\n",
    "line1, = plt.plot(learning_rates, train_results,'b', label='Train AUC')\n",
    "line2, = plt.plot(learning_rates, test_results,'r', label='Test AUC')\n",
    "\n",
    "plt.ylabel('AUC score')\n",
    "plt.xlabel('learning rate')\n",
    "plt.show()"
   ]
  },
  {
   "cell_type": "code",
   "execution_count": 30,
   "metadata": {},
   "outputs": [
    {
     "data": {
      "image/png": "[encoded data removed]",
      "text/plain": [
       "<Figure size 432x288 with 1 Axes>"
      ]
     },
     "metadata": {
      "needs_background": "light"
     },
     "output_type": "display_data"
    }
   ],
   "source": [
    "n_estimators = [100, 200, 300, 500, 1000, 2000, 3000]\n",
    "train_results = []\n",
    "test_results = []\n",
    "for estimator in n_estimators:\n",
    "   model = XGBClassifier(n_estimators=estimator)\n",
    "   model.fit(X_train, y_train)\n",
    "   train_pred = model.predict(X_train)\n",
    "   false_positive_rate, true_positive_rate, thresholds = roc_curve(y_train, train_pred)\n",
    "   roc_auc = auc(false_positive_rate, true_positive_rate)\n",
    "   train_results.append(roc_auc)\n",
    "   y_pred = model.predict(X_test)\n",
    "   false_positive_rate, true_positive_rate, thresholds = roc_curve(y_test, y_pred)\n",
    "   roc_auc = auc(false_positive_rate, true_positive_rate)\n",
    "   test_results.append(roc_auc)\n",
    "    \n",
    "line1, = plt.plot(n_estimators, train_results, 'b', label='Train AUC')\n",
    "line2, = plt.plot(n_estimators, test_results, 'r', label='Test AUC')\n",
    "\n",
    "plt.ylabel('AUC score')\n",
    "plt.xlabel('n_estimators')\n",
    "plt.show()"
   ]
  },
  {
   "cell_type": "code",
   "execution_count": 65,
   "metadata": {},
   "outputs": [
    {
     "data": {
      "image/png": "[encoded data removed]",
      "text/plain": [
       "<Figure size 432x288 with 1 Axes>"
      ]
     },
     "metadata": {
      "needs_background": "light"
     },
     "output_type": "display_data"
    }
   ],
   "source": [
    "max_depths = np.linspace(1, 32, 32, endpoint=True)\n",
    "train_results = []\n",
    "test_results = []\n",
    "\n",
    "for max_depth in max_depths:\n",
    "   model = XGBClassifier(max_depth=int(max_depth))\n",
    "   model.fit(X_train, y_train)\n",
    "   train_pred = model.predict(X_train)\n",
    "   false_positive_rate, true_positive_rate, thresholds = roc_curve(y_train, train_pred)\n",
    "   roc_auc = auc(false_positive_rate, true_positive_rate)\n",
    "   train_results.append(roc_auc)\n",
    "   y_pred = model.predict(X_test)\n",
    "   false_positive_rate, true_positive_rate, thresholds = roc_curve(y_test, y_pred)\n",
    "   roc_auc = auc(false_positive_rate, true_positive_rate)\n",
    "   test_results.append(roc_auc)\n",
    "    \n",
    "    \n",
    "    \n",
    "line1, = plt.plot(max_depths, train_results, 'b', label='Train AUC')\n",
    "line2, = plt.plot(max_depths, test_results, 'r', label='Test AUC')\n",
    "\n",
    "plt.ylabel('AUC score')\n",
    "plt.xlabel('Tree depth')\n",
    "plt.show()"
   ]
  },
  {
   "cell_type": "code",
   "execution_count": 33,
   "metadata": {},
   "outputs": [
    {
     "data": {
      "image/png": "[encoded data removed]",
      "text/plain": [
       "<Figure size 432x288 with 1 Axes>"
      ]
     },
     "metadata": {
      "needs_background": "light"
     },
     "output_type": "display_data"
    }
   ],
   "source": [
    "min_samples_leafs = np.linspace(0.1, 0.5, 5, endpoint=True)\n",
    "train_results = []\n",
    "test_results = []\n",
    "for min_samples_leaf in min_samples_leafs:\n",
    "   model = XGBClassifier(min_samples_leaf=min_samples_leaf)\n",
    "   model.fit(X_train, y_train)\n",
    "   train_pred = model.predict(X_train)\n",
    "   false_positive_rate, true_positive_rate, thresholds = roc_curve(y_train, train_pred)\n",
    "   roc_auc = auc(false_positive_rate, true_positive_rate)\n",
    "   train_results.append(roc_auc)\n",
    "   y_pred = model.predict(X_test)\n",
    "   false_positive_rate, true_positive_rate, thresholds = roc_curve(y_test, y_pred)\n",
    "   roc_auc = auc(false_positive_rate, true_positive_rate)\n",
    "   test_results.append(roc_auc)\n",
    "\n",
    "line1, = plt.plot(min_samples_leafs, train_results, 'b', label='Train AUC')\n",
    "line2, = plt.plot(min_samples_leafs, test_results, 'r', label='Test AUC')\n",
    "\n",
    "plt.ylabel('AUC score')\n",
    "plt.xlabel('min_samples_leafs')\n",
    "plt.show()"
   ]
  },
  {
   "cell_type": "markdown",
   "metadata": {},
   "source": [
    "#### Grid Search"
   ]
  },
  {
   "cell_type": "code",
   "execution_count": 13,
   "metadata": {},
   "outputs": [],
   "source": [
    "xgb_clf_grid = XGBClassifier()"
   ]
  },
  {
   "cell_type": "code",
   "execution_count": 81,
   "metadata": {},
   "outputs": [],
   "source": [
    "n_estimators = [2000]\n",
    "learning_rate = [0.35 ,0.25]\n",
    "max_depth = [5, 7]\n",
    "\n",
    "grid_param = {\n",
    "    'n_estimators': n_estimators,\n",
    "    'learning_rate': learning_rate,\n",
    "    'max_depth': max_depth,\n",
    "}"
   ]
  },
  {
   "cell_type": "code",
   "execution_count": 83,
   "metadata": {},
   "outputs": [],
   "source": [
    "xgb_clf_grid_f = GridSearchCV(estimator= xgb_clf_grid,  param_grid= grid_param, cv = 5, scoring= 'roc_auc')"
   ]
  },
  {
   "cell_type": "code",
   "execution_count": 84,
   "metadata": {},
   "outputs": [
    {
     "data": {
      "text/plain": [
       "GridSearchCV(cv=5,\n",
       "             estimator=XGBClassifier(base_score=None, booster=None,\n",
       "                                     colsample_bylevel=None,\n",
       "                                     colsample_bynode=None,\n",
       "                                     colsample_bytree=None, gamma=None,\n",
       "                                     gpu_id=None, importance_type='gain',\n",
       "                                     interaction_constraints=None,\n",
       "                                     learning_rate=None, max_delta_step=None,\n",
       "                                     max_depth=None, min_child_weight=None,\n",
       "                                     missing=nan, monotone_constraints=None,\n",
       "                                     n_estimators=100, n_jobs=None,\n",
       "                                     num_parallel_tree=None, random_state=None,\n",
       "                                     reg_alpha=None, reg_lambda=None,\n",
       "                                     scale_pos_weight=None, subsample=None,\n",
       "                                     tree_method=None, validate_parameters=None,\n",
       "                                     verbosity=None),\n",
       "             param_grid={'learning_rate': [0.35, 0.25], 'max_depth': [5, 7],\n",
       "                         'n_estimators': [2000]},\n",
       "             scoring='roc_auc')"
      ]
     },
     "execution_count": 84,
     "metadata": {},
     "output_type": "execute_result"
    }
   ],
   "source": [
    "xgb_clf_grid_f.fit(X_train, y_train)"
   ]
  },
  {
   "cell_type": "code",
   "execution_count": 85,
   "metadata": {},
   "outputs": [
    {
     "data": {
      "text/plain": [
       "XGBClassifier(base_score=0.5, booster='gbtree', colsample_bylevel=1,\n",
       "              colsample_bynode=1, colsample_bytree=1, gamma=0, gpu_id=-1,\n",
       "              importance_type='gain', interaction_constraints='',\n",
       "              learning_rate=0.25, max_delta_step=0, max_depth=5,\n",
       "              min_child_weight=1, missing=nan, monotone_constraints='()',\n",
       "              n_estimators=2000, n_jobs=0, num_parallel_tree=1, random_state=0,\n",
       "              reg_alpha=0, reg_lambda=1, scale_pos_weight=1, subsample=1,\n",
       "              tree_method='exact', validate_parameters=1, verbosity=None)"
      ]
     },
     "execution_count": 85,
     "metadata": {},
     "output_type": "execute_result"
    }
   ],
   "source": [
    "xgb_clf_grid_f.best_estimator_"
   ]
  },
  {
   "cell_type": "code",
   "execution_count": 87,
   "metadata": {},
   "outputs": [],
   "source": [
    "xgb_clf_grid_s = XGBClassifier(base_score=0.5, booster='gbtree', colsample_bylevel=1,\n",
    "              colsample_bynode=1, colsample_bytree=1, gamma=0, gpu_id=-1,\n",
    "              importance_type='gain', interaction_constraints='',\n",
    "              learning_rate=0.25, max_delta_step=0, max_depth=5, min_child_weight=1,\n",
    "              n_estimators=2000, n_jobs=0, num_parallel_tree=1, random_state=0,\n",
    "              reg_alpha=0, reg_lambda=1, scale_pos_weight=1, subsample=1,\n",
    "              tree_method='exact', validate_parameters=1, verbosity=None)"
   ]
  },
  {
   "cell_type": "code",
   "execution_count": 88,
   "metadata": {},
   "outputs": [
    {
     "data": {
      "text/plain": [
       "XGBClassifier(base_score=0.5, booster='gbtree', colsample_bylevel=1,\n",
       "              colsample_bynode=1, colsample_bytree=1, gamma=0, gpu_id=-1,\n",
       "              importance_type='gain', interaction_constraints='',\n",
       "              learning_rate=0.25, max_delta_step=0, max_depth=5,\n",
       "              min_child_weight=1, missing=nan, monotone_constraints='()',\n",
       "              n_estimators=2000, n_jobs=0, num_parallel_tree=1, random_state=0,\n",
       "              reg_alpha=0, reg_lambda=1, scale_pos_weight=1, subsample=1,\n",
       "              tree_method='exact', validate_parameters=1, verbosity=None)"
      ]
     },
     "execution_count": 88,
     "metadata": {},
     "output_type": "execute_result"
    }
   ],
   "source": [
    "xgb_clf_grid_s.fit(X_train, y_train )"
   ]
  },
  {
   "cell_type": "code",
   "execution_count": 89,
   "metadata": {},
   "outputs": [
    {
     "name": "stdout",
     "output_type": "stream",
     "text": [
      "XGBClassifier \n",
      " Accuracy score:  0.9351395730706076 \n",
      " Precision score:  0.6638935108153078 \n",
      " Recall score:  0.43942731277533037 \n",
      " F1 score:  0.5288270377733598 \n",
      " ROC AUC score:  0.7096679034535096 \n",
      "\n"
     ]
    }
   ],
   "source": [
    "y_pred = xgb_clf_grid_s.predict(X_test)\n",
    "print(\n",
    "        xgb_clf_grid_s.__class__.__name__,\n",
    "        '\\n',\n",
    "        'Accuracy score: ',accuracy_score(y_test, y_pred), '\\n',\n",
    "        'Precision score: ',precision_score(y_test, y_pred, zero_division = 1), '\\n',\n",
    "        'Recall score: ',recall_score(y_test, y_pred, zero_division = 1), '\\n',\n",
    "        'F1 score: ',f1_score(y_test, y_pred, zero_division = 1), '\\n',\n",
    "        'ROC AUC score: ',roc_auc_score(y_test, y_pred), '\\n', \n",
    "\n",
    "    )"
   ]
  },
  {
   "cell_type": "code",
   "execution_count": 14,
   "metadata": {},
   "outputs": [
    {
     "data": {
      "text/plain": [
       "['xgb_clf.joblib']"
      ]
     },
     "execution_count": 14,
     "metadata": {},
     "output_type": "execute_result"
    }
   ],
   "source": [
    "dump(xgb_clf_grid, 'xgb_clf.joblib') "
   ]
  },
  {
   "cell_type": "markdown",
   "metadata": {},
   "source": [
    "### Comparison\n",
    "Here we will compare all the results.\n",
    "\n",
    "#### Without tuning:\n",
    "\n",
    " Accuracy score:  0.9464513774858603 \\\n",
    " Precision score:  0.883054892601432  \\\n",
    " Recall score:  0.40748898678414097 \\\n",
    " F1 score:  0.5576488319517708 \\\n",
    " ROC AUC score:  0.7013076523337853 \n",
    " \n",
    " #### GridSearch:\n",
    " \n",
    " Accuracy score:  0.9351395730706076 \\\n",
    " Precision score:  0.6638935108153078\\\n",
    " Recall score:  0.43942731277533037 \\\n",
    " F1 score:  0.5288270377733598\\\n",
    " ROC AUC score:  0.7096679034535096"
   ]
  },
  {
   "cell_type": "markdown",
   "metadata": {},
   "source": [
    "### Results\n",
    "\n",
    "As we can see our grid search didn't help to improve our model. But results without grid search is good. We have a high rate of precision, 40% of recall and high accuracy."
   ]
  },
  {
   "cell_type": "markdown",
   "metadata": {},
   "source": [
    "## Conclusion\n",
    "\n",
    "In this project we explore how people get a promotion. We built two good models, which describe, why and how people get their promotion. In my opinion we should use XGBoost model. It works good. In real project we would tune it more, but it won't let us significant difference."
   ]
  }
 ],
 "metadata": {
  "kernelspec": {
   "display_name": "Python 3",
   "language": "python",
   "name": "python3"
  },
  "language_info": {
   "codemirror_mode": {
    "name": "ipython",
    "version": 3
   },
   "file_extension": ".py",
   "mimetype": "text/x-python",
   "name": "python",
   "nbconvert_exporter": "python",
   "pygments_lexer": "ipython3",
   "version": "3.8.3"
  }
 },
 "nbformat": 4,
 "nbformat_minor": 4
}
